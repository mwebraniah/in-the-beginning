{
  "nbformat": 4,
  "nbformat_minor": 0,
  "metadata": {
    "colab": {
      "name": "Copy of jhs_colab v0.ipynb",
      "provenance": [],
      "collapsed_sections": [],
      "authorship_tag": "ABX9TyMsZeJ/QVuc/b8QQZaGnDMw",
      "include_colab_link": true
    },
    "kernelspec": {
      "name": "python3",
      "display_name": "Python 3"
    },
    "language_info": {
      "name": "python"
    }
  },
  "cells": [
    {
      "cell_type": "markdown",
      "metadata": {
        "id": "view-in-github",
        "colab_type": "text"
      },
      "source": [
        "<a href=\"https://colab.research.google.com/github/mwebrannia/in-the-beginning/blob/main/Copy_of_jhs_colab_v0.ipynb\" target=\"_parent\"><img src=\"https://colab.research.google.com/assets/colab-badge.svg\" alt=\"Open In Colab\"/></a>"
      ]
    },
    {
      "cell_type": "markdown",
      "source": [
        "PREDICTING PERSONS EDUCATION LEVEL ACCORDING TO AGE"
      ],
      "metadata": {
        "id": "ckESYE6S23if"
      }
    },
    {
      "cell_type": "code",
      "source": [
        "#WITHOUT USER INPUTS VALIDATITONS\n",
        "\n",
        "age = int(input(\"enter your age here: \"))\n",
        "\n",
        "if age <= 5:\n",
        "  print(\"Baby class\")\n",
        "elif age <= 7:\n",
        "  print(\"Primary school\")\n",
        "elif age <= 14:\n",
        "  print(\"Secondary school\")\n",
        "elif age <= 19:\n",
        "  print(\"College\")\n",
        "else:\n",
        "  print(\"University Graduate\")"
      ],
      "metadata": {
        "colab": {
          "base_uri": "https://localhost:8080/"
        },
        "id": "L4XC8bfd3Gt0",
        "outputId": "9118a9a9-5e00-4303-956c-f74b11c33673"
      },
      "execution_count": null,
      "outputs": [
        {
          "output_type": "stream",
          "name": "stdout",
          "text": [
            "enter your age here: 21\n",
            "University Graduate\n"
          ]
        }
      ]
    },
    {
      "cell_type": "code",
      "source": [
        "#WITH USER INPUT VALIDATION\n",
        "\n",
        "while True:\n",
        "    try:\n",
        "      age = int(input(\"Please enter your age: \"))\n",
        "    except ValueError:\n",
        "        print(\"Invalid input, Try again.\")\n",
        "        continue\n",
        "    else:\n",
        "        break\n",
        "if age <= 5:\n",
        "  print(\"Baby class\")\n",
        "elif age <= 7:\n",
        "  print(\"Primary school\")\n",
        "elif age <= 14:\n",
        "  print(\"Secondary school\")\n",
        "elif age <= 19:\n",
        "  print(\"College\")\n",
        "else:\n",
        "  print(\"University Graduate\")\n"
      ],
      "metadata": {
        "colab": {
          "base_uri": "https://localhost:8080/"
        },
        "id": "X5ASAu-jLNIX",
        "outputId": "d3a3c4cc-e6c9-4f79-c4a8-37f490f22764"
      },
      "execution_count": null,
      "outputs": [
        {
          "output_type": "stream",
          "name": "stdout",
          "text": [
            "Please enter your age: 45\n",
            "University Graduate\n"
          ]
        }
      ]
    },
    {
      "cell_type": "code",
      "source": [
        "#CREATE FRUITS LIST\n",
        "\n",
        "while True:\n",
        "    try:\n",
        "      fruit = str(input(\"Enter your favorite fruit: \"))\n",
        "    except ValueError:\n",
        "        print(\"Invalid input, Try again.\")\n",
        "        continue\n",
        "    else:\n",
        "        break\n",
        "\n",
        "fruits = ['banana', 'orange', 'pineaple', 'jack fruit', 'avocado', 'mangoes', 'grapes', 'watermellon', 'pear', 'pomegrenade']\n",
        "\n",
        "if fruit in fruits is fruit.isalpha():\n",
        "  print('The fruit is available')\n",
        "else:\n",
        "  print(\"No such fruit in our store we only have\\n\", ', '.join(fruits), \"\\n which one will you pick?\")"
      ],
      "metadata": {
        "id": "NPon7QLmRPQi",
        "colab": {
          "base_uri": "https://localhost:8080/"
        },
        "outputId": "e5211ebe-cb38-4c35-af08-f818939cc5e0"
      },
      "execution_count": null,
      "outputs": [
        {
          "output_type": "stream",
          "name": "stdout",
          "text": [
            "Enter your favorite fruit: Banana\n",
            "No such fruit in our store we only have\n",
            " banana, Banana, orange, pineaple, jack fruit, avocado, mangoes, grapes, watermellon, pear, pomegrenade \n",
            " which one will you pick?\n"
          ]
        }
      ]
    },
    {
      "cell_type": "code",
      "source": [
        ""
      ],
      "metadata": {
        "id": "M--OPzqddCQH"
      },
      "execution_count": null,
      "outputs": []
    }
  ]
}